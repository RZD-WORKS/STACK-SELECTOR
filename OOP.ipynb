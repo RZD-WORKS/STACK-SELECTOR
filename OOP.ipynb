{
 "cells": [
  {
   "cell_type": "markdown",
   "metadata": {},
   "source": [
    "Объект = ?\n",
    "Класс = ?\n",
    "Классификация - процесс присвоения объекту по признакам/свойствам определенного класса\n",
    "\n",
    "ООП"
   ]
  },
  {
   "cell_type": "code",
   "execution_count": 93,
   "metadata": {},
   "outputs": [],
   "source": [
    "class Train:\n",
    "    def __init__(self, max_dist = 50):\n",
    "        self.color = \"#faffaf\"\n",
    "        self.dist = 0\n",
    "        self.num_personal = 12\n",
    "        self.max_dist = max_dist\n",
    "\n",
    "    def go(self):\n",
    "        if self.dist != self.max_dist:\n",
    "            self.dist += 1\n",
    "        else:\n",
    "            print('Вы достигли лимита по дистанции')\n",
    "        print(self.dist)\n",
    "    \n",
    "    def go_return(self):\n",
    "        if self.dist != 0:\n",
    "            self.dist -= 1\n",
    "        else:\n",
    "            print('Вы вернулись в начало дистанции')\n",
    "        print(self.dist)\n",
    "\n",
    "class ElectricTrain(Train):\n",
    "    def go_electric(self):\n",
    "        print('Вы можете так сделать')\n",
    "\n",
    "train = Train()\n",
    "train_2 = ElectricTrain(20)"
   ]
  },
  {
   "cell_type": "code",
   "execution_count": null,
   "metadata": {},
   "outputs": [],
   "source": [
    "class Point():\n",
    "    def __init__(self, x, y):\n",
    "        self.x = x\n",
    "        self.y = y"
   ]
  },
  {
   "cell_type": "code",
   "execution_count": 100,
   "metadata": {},
   "outputs": [
    {
     "name": "stdout",
     "output_type": "stream",
     "text": [
      "7\n"
     ]
    }
   ],
   "source": [
    "train_2.go()"
   ]
  },
  {
   "cell_type": "code",
   "execution_count": null,
   "metadata": {},
   "outputs": [],
   "source": []
  },
  {
   "cell_type": "code",
   "execution_count": 69,
   "metadata": {},
   "outputs": [
    {
     "name": "stdout",
     "output_type": "stream",
     "text": [
      "Вы вернулись в начало дистанции\n",
      "0\n"
     ]
    }
   ],
   "source": [
    "train.go_return()"
   ]
  }
 ],
 "metadata": {
  "kernelspec": {
   "display_name": "Python 3",
   "language": "python",
   "name": "python3"
  },
  "language_info": {
   "codemirror_mode": {
    "name": "ipython",
    "version": 3
   },
   "file_extension": ".py",
   "mimetype": "text/x-python",
   "name": "python",
   "nbconvert_exporter": "python",
   "pygments_lexer": "ipython3",
   "version": "3.10.6"
  }
 },
 "nbformat": 4,
 "nbformat_minor": 2
}
